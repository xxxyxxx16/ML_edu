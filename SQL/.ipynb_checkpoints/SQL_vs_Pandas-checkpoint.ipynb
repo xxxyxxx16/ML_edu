{
 "cells": [
  {
   "cell_type": "markdown",
   "metadata": {},
   "source": [
    "# 1. Эксперимент #"
   ]
  },
  {
   "cell_type": "markdown",
   "metadata": {},
   "source": [
    "Цель работы - освоение алгоритмов классификации на наборе данных, полученных методом Монте Карло. Набор данных представляет собой 3 класса. Каждый класс имеет два признака - время замедления нейтрона и число столкновений."
   ]
  },
  {
   "cell_type": "markdown",
   "metadata": {},
   "source": [
    "## Блок нейтронной физики ##"
   ]
  },
  {
   "cell_type": "code",
   "execution_count": 1,
   "metadata": {},
   "outputs": [],
   "source": [
    "import pandas as pd\n",
    "import random as rd\n",
    "import math as math\n",
    "import scipy.constants as const # Модуль физико-математических констант\n",
    "\n",
    "# отключим предупреждения Anaconda\n",
    "import warnings\n",
    "warnings.simplefilter('ignore')\n",
    "\n",
    "N_A = const.Avogadro"
   ]
  },
  {
   "cell_type": "markdown",
   "metadata": {},
   "source": [
    "### Функция жизни нейтрона: ###"
   ]
  },
  {
   "cell_type": "code",
   "execution_count": 2,
   "metadata": {},
   "outputs": [],
   "source": [
    "# Для одинаковой генерации данных\n",
    "rd.seed(42)\n",
    "\n",
    "def life_of_neutron(Ein, Eout, dens, A1, A2, Mol_m, Sigma, alpha_1, alpha_2, sigma_1, sigma_2, x1, x2):\n",
    "    \n",
    "    Energy = Ein\n",
    "    colision = 0 # Число столкновений\n",
    "    time = 0 # Время полета\n",
    "    a = 0 # Угол полета\n",
    "    b = 0 # Изменение угла полета\n",
    "    l = 0 # Длина пролета\n",
    "    V = 0 # Скорость\n",
    "    elder = 0 #Возраст\n",
    "    while Energy > Eout: #Пока энергия нейтрона лежит в области > ... ЭВ\n",
    "        l = -1*math.log(rd.random())/Sigma/100 # В метрах\n",
    "        V = (2*Energy*1.6*(10**(-19))/(1.6749*10**(-27)))**0.5 # В м/с\n",
    "        time += l/V\n",
    "        colision += 1\n",
    "        \n",
    "        #Разыгрывание на каком ядре произошло рассеяние\n",
    "        x = rd.random()\n",
    "        if x < (x1*sigma_1/(x1*sigma_1 + x2*sigma_2)):# Рассеяние на первом ядре\n",
    "            E1 = Energy\n",
    "            E2 = Energy*alpha_1\n",
    "            Energy = rd.uniform(E1, E2)\n",
    "            b = math.acos\n",
    "\n",
    "            \n",
    "        else:# Рассеяние на втором ядре\n",
    "            E1 = Energy\n",
    "            E2 = Energy*alpha_2\n",
    "            Energy = rd.uniform(E1, E2)\n",
    "\n",
    "    return colision, time"
   ]
  },
  {
   "cell_type": "markdown",
   "metadata": {},
   "source": [
    "### Входные данные по материалам: ###"
   ]
  },
  {
   "cell_type": "code",
   "execution_count": 3,
   "metadata": {},
   "outputs": [
    {
     "data": {
      "text/html": [
       "<div>\n",
       "<style scoped>\n",
       "    .dataframe tbody tr th:only-of-type {\n",
       "        vertical-align: middle;\n",
       "    }\n",
       "\n",
       "    .dataframe tbody tr th {\n",
       "        vertical-align: top;\n",
       "    }\n",
       "\n",
       "    .dataframe thead th {\n",
       "        text-align: right;\n",
       "    }\n",
       "</style>\n",
       "<table border=\"1\" class=\"dataframe\">\n",
       "  <thead>\n",
       "    <tr style=\"text-align: right;\">\n",
       "      <th></th>\n",
       "      <th>Material</th>\n",
       "      <th>Density g/cm^3</th>\n",
       "      <th>A_1</th>\n",
       "      <th>A_2</th>\n",
       "      <th>Molar mass g/mol</th>\n",
       "      <th>Chemical formula</th>\n",
       "      <th>sigma_1 b</th>\n",
       "      <th>sigma_2 b</th>\n",
       "      <th>x1</th>\n",
       "      <th>x2</th>\n",
       "    </tr>\n",
       "  </thead>\n",
       "  <tbody>\n",
       "    <tr>\n",
       "      <th>0</th>\n",
       "      <td>Water</td>\n",
       "      <td>1.0</td>\n",
       "      <td>1</td>\n",
       "      <td>16</td>\n",
       "      <td>18</td>\n",
       "      <td>H2O</td>\n",
       "      <td>30.0</td>\n",
       "      <td>4.0</td>\n",
       "      <td>2</td>\n",
       "      <td>1</td>\n",
       "    </tr>\n",
       "    <tr>\n",
       "      <th>1</th>\n",
       "      <td>Heavy Plexiglass</td>\n",
       "      <td>1.6</td>\n",
       "      <td>12</td>\n",
       "      <td>2</td>\n",
       "      <td>28</td>\n",
       "      <td>C2D2</td>\n",
       "      <td>4.9</td>\n",
       "      <td>3.5</td>\n",
       "      <td>2</td>\n",
       "      <td>2</td>\n",
       "    </tr>\n",
       "    <tr>\n",
       "      <th>2</th>\n",
       "      <td>Heavy Water</td>\n",
       "      <td>1.1</td>\n",
       "      <td>2</td>\n",
       "      <td>16</td>\n",
       "      <td>20</td>\n",
       "      <td>D2O</td>\n",
       "      <td>3.5</td>\n",
       "      <td>4.0</td>\n",
       "      <td>2</td>\n",
       "      <td>1</td>\n",
       "    </tr>\n",
       "  </tbody>\n",
       "</table>\n",
       "</div>"
      ],
      "text/plain": [
       "           Material  Density g/cm^3  A_1  A_2  Molar mass g/mol  \\\n",
       "0             Water             1.0    1   16                18   \n",
       "1  Heavy Plexiglass             1.6   12    2                28   \n",
       "2       Heavy Water             1.1    2   16                20   \n",
       "\n",
       "  Chemical formula  sigma_1 b  sigma_2 b  x1  x2  \n",
       "0              H2O       30.0        4.0   2   1  \n",
       "1             C2D2        4.9        3.5   2   2  \n",
       "2              D2O        3.5        4.0   2   1  "
      ]
     },
     "execution_count": 3,
     "metadata": {},
     "output_type": "execute_result"
    }
   ],
   "source": [
    "df = pd.DataFrame({'Material': ['Water', 'Heavy Plexiglass', 'Heavy Water'],\n",
    "                   'Density g/cm^3': [1.0, 1.6, 1.1],\n",
    "                    'A_1' : [1, 12, 2],\n",
    "                    'A_2' : [16, 2, 16],\n",
    "                    'Molar mass g/mol' : [18, 28, 20],\n",
    "                    'Chemical formula' : ['H2O', 'C2D2', 'D2O'],\n",
    "                    'sigma_1 b' : [30.0, 4.9, 3.5],\n",
    "                    'sigma_2 b' : [4.0, 3.5, 4.0],\n",
    "                    'x1' : [2, 2, 2],\n",
    "                    'x2' : [1, 2, 1],\n",
    "                    \n",
    "              })\n",
    "\n",
    "df"
   ]
  },
  {
   "cell_type": "markdown",
   "metadata": {},
   "source": [
    "### Расчет макросечения: ###"
   ]
  },
  {
   "cell_type": "code",
   "execution_count": 4,
   "metadata": {},
   "outputs": [
    {
     "data": {
      "text/html": [
       "<div>\n",
       "<style scoped>\n",
       "    .dataframe tbody tr th:only-of-type {\n",
       "        vertical-align: middle;\n",
       "    }\n",
       "\n",
       "    .dataframe tbody tr th {\n",
       "        vertical-align: top;\n",
       "    }\n",
       "\n",
       "    .dataframe thead th {\n",
       "        text-align: right;\n",
       "    }\n",
       "</style>\n",
       "<table border=\"1\" class=\"dataframe\">\n",
       "  <thead>\n",
       "    <tr style=\"text-align: right;\">\n",
       "      <th></th>\n",
       "      <th>Material</th>\n",
       "      <th>Density g/cm^3</th>\n",
       "      <th>A_1</th>\n",
       "      <th>A_2</th>\n",
       "      <th>Molar mass g/mol</th>\n",
       "      <th>Chemical formula</th>\n",
       "      <th>sigma_1 b</th>\n",
       "      <th>sigma_2 b</th>\n",
       "      <th>x1</th>\n",
       "      <th>x2</th>\n",
       "      <th>Σ, 1/cm</th>\n",
       "    </tr>\n",
       "  </thead>\n",
       "  <tbody>\n",
       "    <tr>\n",
       "      <th>0</th>\n",
       "      <td>Water</td>\n",
       "      <td>1.0</td>\n",
       "      <td>1</td>\n",
       "      <td>16</td>\n",
       "      <td>18</td>\n",
       "      <td>H2O</td>\n",
       "      <td>30.0</td>\n",
       "      <td>4.0</td>\n",
       "      <td>2</td>\n",
       "      <td>1</td>\n",
       "      <td>2.141206</td>\n",
       "    </tr>\n",
       "    <tr>\n",
       "      <th>1</th>\n",
       "      <td>Heavy Plexiglass</td>\n",
       "      <td>1.6</td>\n",
       "      <td>12</td>\n",
       "      <td>2</td>\n",
       "      <td>28</td>\n",
       "      <td>C2D2</td>\n",
       "      <td>4.9</td>\n",
       "      <td>3.5</td>\n",
       "      <td>2</td>\n",
       "      <td>2</td>\n",
       "      <td>0.578126</td>\n",
       "    </tr>\n",
       "    <tr>\n",
       "      <th>2</th>\n",
       "      <td>Heavy Water</td>\n",
       "      <td>1.1</td>\n",
       "      <td>2</td>\n",
       "      <td>16</td>\n",
       "      <td>20</td>\n",
       "      <td>D2O</td>\n",
       "      <td>3.5</td>\n",
       "      <td>4.0</td>\n",
       "      <td>2</td>\n",
       "      <td>1</td>\n",
       "      <td>0.364340</td>\n",
       "    </tr>\n",
       "  </tbody>\n",
       "</table>\n",
       "</div>"
      ],
      "text/plain": [
       "           Material  Density g/cm^3  A_1  A_2  Molar mass g/mol  \\\n",
       "0             Water             1.0    1   16                18   \n",
       "1  Heavy Plexiglass             1.6   12    2                28   \n",
       "2       Heavy Water             1.1    2   16                20   \n",
       "\n",
       "  Chemical formula  sigma_1 b  sigma_2 b  x1  x2   Σ, 1/cm  \n",
       "0              H2O       30.0        4.0   2   1  2.141206  \n",
       "1             C2D2        4.9        3.5   2   2  0.578126  \n",
       "2              D2O        3.5        4.0   2   1  0.364340  "
      ]
     },
     "metadata": {},
     "output_type": "display_data"
    }
   ],
   "source": [
    "df['\\u03A3, 1/cm'] = 0.0\n",
    "for k in df.index:\n",
    "    df['Σ, 1/cm'][k] = (df['x1'][k]*df['sigma_1 b'][k]+df['x2'][k]*df['sigma_2 b'][k]\n",
    "                       )*N_A*df['Density g/cm^3'][k]/df['Molar mass g/mol'][k]/10**(24)\n",
    "display(df)"
   ]
  },
  {
   "cell_type": "markdown",
   "metadata": {},
   "source": [
    "### Расчет ступеньки замедления: ###"
   ]
  },
  {
   "cell_type": "code",
   "execution_count": 5,
   "metadata": {},
   "outputs": [
    {
     "data": {
      "text/html": [
       "<div>\n",
       "<style scoped>\n",
       "    .dataframe tbody tr th:only-of-type {\n",
       "        vertical-align: middle;\n",
       "    }\n",
       "\n",
       "    .dataframe tbody tr th {\n",
       "        vertical-align: top;\n",
       "    }\n",
       "\n",
       "    .dataframe thead th {\n",
       "        text-align: right;\n",
       "    }\n",
       "</style>\n",
       "<table border=\"1\" class=\"dataframe\">\n",
       "  <thead>\n",
       "    <tr style=\"text-align: right;\">\n",
       "      <th></th>\n",
       "      <th>Material</th>\n",
       "      <th>Density g/cm^3</th>\n",
       "      <th>A_1</th>\n",
       "      <th>A_2</th>\n",
       "      <th>Molar mass g/mol</th>\n",
       "      <th>Chemical formula</th>\n",
       "      <th>sigma_1 b</th>\n",
       "      <th>sigma_2 b</th>\n",
       "      <th>x1</th>\n",
       "      <th>x2</th>\n",
       "      <th>Σ, 1/cm</th>\n",
       "      <th>ɑ_1</th>\n",
       "      <th>ɑ_2</th>\n",
       "    </tr>\n",
       "  </thead>\n",
       "  <tbody>\n",
       "    <tr>\n",
       "      <th>0</th>\n",
       "      <td>Water</td>\n",
       "      <td>1.0</td>\n",
       "      <td>1</td>\n",
       "      <td>16</td>\n",
       "      <td>18</td>\n",
       "      <td>H2O</td>\n",
       "      <td>30.0</td>\n",
       "      <td>4.0</td>\n",
       "      <td>2</td>\n",
       "      <td>1</td>\n",
       "      <td>2.141206</td>\n",
       "      <td>0.000000</td>\n",
       "      <td>0.778547</td>\n",
       "    </tr>\n",
       "    <tr>\n",
       "      <th>1</th>\n",
       "      <td>Heavy Plexiglass</td>\n",
       "      <td>1.6</td>\n",
       "      <td>12</td>\n",
       "      <td>2</td>\n",
       "      <td>28</td>\n",
       "      <td>C2D2</td>\n",
       "      <td>4.9</td>\n",
       "      <td>3.5</td>\n",
       "      <td>2</td>\n",
       "      <td>2</td>\n",
       "      <td>0.578126</td>\n",
       "      <td>0.715976</td>\n",
       "      <td>0.111111</td>\n",
       "    </tr>\n",
       "    <tr>\n",
       "      <th>2</th>\n",
       "      <td>Heavy Water</td>\n",
       "      <td>1.1</td>\n",
       "      <td>2</td>\n",
       "      <td>16</td>\n",
       "      <td>20</td>\n",
       "      <td>D2O</td>\n",
       "      <td>3.5</td>\n",
       "      <td>4.0</td>\n",
       "      <td>2</td>\n",
       "      <td>1</td>\n",
       "      <td>0.364340</td>\n",
       "      <td>0.111111</td>\n",
       "      <td>0.778547</td>\n",
       "    </tr>\n",
       "  </tbody>\n",
       "</table>\n",
       "</div>"
      ],
      "text/plain": [
       "           Material  Density g/cm^3  A_1  A_2  Molar mass g/mol  \\\n",
       "0             Water             1.0    1   16                18   \n",
       "1  Heavy Plexiglass             1.6   12    2                28   \n",
       "2       Heavy Water             1.1    2   16                20   \n",
       "\n",
       "  Chemical formula  sigma_1 b  sigma_2 b  x1  x2   Σ, 1/cm       ɑ_1       ɑ_2  \n",
       "0              H2O       30.0        4.0   2   1  2.141206  0.000000  0.778547  \n",
       "1             C2D2        4.9        3.5   2   2  0.578126  0.715976  0.111111  \n",
       "2              D2O        3.5        4.0   2   1  0.364340  0.111111  0.778547  "
      ]
     },
     "metadata": {},
     "output_type": "display_data"
    }
   ],
   "source": [
    "df['\\u0251_1'] = 0.0\n",
    "df['\\u0251_2'] = 0.0\n",
    "for k in df.index:\n",
    "    df['\\u0251_1'][k] = ((df['A_1'][k]-1)/(df['A_1'][k]+1))**2\n",
    "    df['\\u0251_2'][k] = ((df['A_2'][k]-1)/(df['A_2'][k]+1))**2\n",
    "display(df)"
   ]
  },
  {
   "cell_type": "markdown",
   "metadata": {},
   "source": [
    "### Создание DataFrame для записи данных ###"
   ]
  },
  {
   "cell_type": "code",
   "execution_count": 6,
   "metadata": {},
   "outputs": [
    {
     "data": {
      "text/html": [
       "<div>\n",
       "<style scoped>\n",
       "    .dataframe tbody tr th:only-of-type {\n",
       "        vertical-align: middle;\n",
       "    }\n",
       "\n",
       "    .dataframe tbody tr th {\n",
       "        vertical-align: top;\n",
       "    }\n",
       "\n",
       "    .dataframe thead th {\n",
       "        text-align: right;\n",
       "    }\n",
       "</style>\n",
       "<table border=\"1\" class=\"dataframe\">\n",
       "  <thead>\n",
       "    <tr style=\"text-align: right;\">\n",
       "      <th></th>\n",
       "      <th>time, 10^(-5) c</th>\n",
       "      <th>colisions</th>\n",
       "      <th>Material</th>\n",
       "      <th>target</th>\n",
       "    </tr>\n",
       "  </thead>\n",
       "  <tbody>\n",
       "  </tbody>\n",
       "</table>\n",
       "</div>"
      ],
      "text/plain": [
       "Empty DataFrame\n",
       "Columns: [time, 10^(-5) c, colisions, Material, target]\n",
       "Index: []"
      ]
     },
     "execution_count": 6,
     "metadata": {},
     "output_type": "execute_result"
    }
   ],
   "source": [
    "df1 = pd.DataFrame({'time, 10^(-5) c': [],\n",
    "                   'colisions': [],\n",
    "                    'Material' : [],\n",
    "                    'target' : [] \n",
    "              })\n",
    "df1"
   ]
  },
  {
   "cell_type": "markdown",
   "metadata": {},
   "source": [
    "### Эксперимент методом Монте-Карло ###"
   ]
  },
  {
   "cell_type": "code",
   "execution_count": null,
   "metadata": {},
   "outputs": [],
   "source": [
    "Estart = 1_000_000 #1Мэв\n",
    "Eend = 1 #1 Эв\n",
    "Colision = [0, 0, 0, 0]\n",
    "Time = [0, 0, 0, 0]\n",
    "number_of_event = 300\n",
    "counter = 0 # Счетчик для записи в DataFrame\n",
    "for k in df.index: #Цикл по материалам\n",
    "    for i in range(0, number_of_event*(k+1)): #Колличество событий для каждого материала\n",
    "        colision, time = life_of_neutron(Estart, Eend, df['Density g/cm^3'][k],\n",
    "                                          df['A_1'][k], df['A_2'][k],\n",
    "                                          df['Molar mass g/mol'][k], df['Σ, 1/cm'][k],\n",
    "                                          df['ɑ_1'][k], df['ɑ_2'][k],\n",
    "                                          df['sigma_1 b'][k], df['sigma_2 b'][k],\n",
    "                                          df['x1'][k], df['x2'][k],)\n",
    "        df1.loc[counter] = {'Material': df['Material'][k], 'time, 10^(-5) c': time*100_000, 'colisions': colision, 'target': k}\n",
    "        Colision[k]+=colision\n",
    "        Time[k]+=time\n",
    "        counter+=1\n",
    "\n",
    "\n",
    "for k in df.index:\n",
    "    Colision[k] = Colision[k]/number_of_event/(k+1)\n",
    "    Time[k] = Time[k]/number_of_event/(k+1)\n",
    "    \n",
    "for k in df.index:\n",
    "    print(df['Material'][k])\n",
    "    print(Colision[k])\n",
    "    print(Time[k])"
   ]
  },
  {
   "cell_type": "markdown",
   "metadata": {},
   "source": [
    "# 2. SQL vs Pandas"
   ]
  },
  {
   "cell_type": "markdown",
   "metadata": {},
   "source": [
    "## 2.1 Create a Table"
   ]
  },
  {
   "cell_type": "markdown",
   "metadata": {},
   "source": [
    "Посмотрим, что представляют собой полученные данные"
   ]
  },
  {
   "cell_type": "code",
   "execution_count": null,
   "metadata": {},
   "outputs": [],
   "source": [
    "df1.head()"
   ]
  },
  {
   "cell_type": "markdown",
   "metadata": {},
   "source": [
    "Еще раз взглянем на входные данные"
   ]
  },
  {
   "cell_type": "code",
   "execution_count": null,
   "metadata": {},
   "outputs": [],
   "source": [
    "df.head()"
   ]
  },
  {
   "cell_type": "markdown",
   "metadata": {},
   "source": [
    "Создадим базу данных из этих двух data frames"
   ]
  },
  {
   "cell_type": "code",
   "execution_count": null,
   "metadata": {},
   "outputs": [],
   "source": [
    "import sqlite3"
   ]
  },
  {
   "cell_type": "code",
   "execution_count": null,
   "metadata": {},
   "outputs": [],
   "source": [
    "conn = sqlite3.connect('data/neutron_moderation.db')\n",
    "c = conn.cursor()"
   ]
  },
  {
   "cell_type": "code",
   "execution_count": null,
   "metadata": {},
   "outputs": [],
   "source": [
    "df.to_sql('Input_data', conn, if_exists='replace', index = False)"
   ]
  },
  {
   "cell_type": "code",
   "execution_count": null,
   "metadata": {},
   "outputs": [],
   "source": [
    "df1.to_sql('Output_data', conn, if_exists='replace', index = False)"
   ]
  },
  {
   "cell_type": "markdown",
   "metadata": {},
   "source": [
    "Создадим пустую таблицу для тренировки не из DF и затем её удалим"
   ]
  },
  {
   "cell_type": "code",
   "execution_count": null,
   "metadata": {},
   "outputs": [],
   "source": [
    "c.execute('CREATE TABLE CARS (Brand text, Price number)')\n",
    "conn.commit()"
   ]
  },
  {
   "cell_type": "code",
   "execution_count": null,
   "metadata": {},
   "outputs": [],
   "source": [
    "c.execute('DROP TABLE IF EXISTS CARS')\n",
    "conn.commit()"
   ]
  },
  {
   "cell_type": "markdown",
   "metadata": {},
   "source": [
    "Создадим df из полученной базы данных"
   ]
  },
  {
   "cell_type": "code",
   "execution_count": null,
   "metadata": {},
   "outputs": [],
   "source": [
    "df1 = pd.read_sql(\"SELECT * from Output_data\", conn)\n",
    "df1.head()"
   ]
  },
  {
   "cell_type": "code",
   "execution_count": null,
   "metadata": {},
   "outputs": [],
   "source": [
    "df = pd.read_sql(\"SELECT * from Input_data\", conn)\n",
    "df.head()"
   ]
  },
  {
   "cell_type": "markdown",
   "metadata": {},
   "source": [
    "## 2.2 INSERT Operation"
   ]
  },
  {
   "cell_type": "markdown",
   "metadata": {},
   "source": [
    "Добавление через pandas"
   ]
  },
  {
   "cell_type": "code",
   "execution_count": null,
   "metadata": {},
   "outputs": [],
   "source": [
    "data = [{\"Material\": 'Carbon', \"Chemical formula\": 'C'}]\n",
    "data"
   ]
  },
  {
   "cell_type": "code",
   "execution_count": null,
   "metadata": {},
   "outputs": [],
   "source": [
    "data = pd.DataFrame(data)\n",
    "data"
   ]
  },
  {
   "cell_type": "code",
   "execution_count": null,
   "metadata": {},
   "outputs": [],
   "source": [
    "df = pd.concat([df, data], ignore_index=True)"
   ]
  },
  {
   "cell_type": "code",
   "execution_count": null,
   "metadata": {
    "scrolled": true
   },
   "outputs": [],
   "source": [
    "df"
   ]
  },
  {
   "cell_type": "markdown",
   "metadata": {},
   "source": [
    "## 2.3 DELETE Operatioin"
   ]
  },
  {
   "cell_type": "markdown",
   "metadata": {},
   "source": [
    "Удаление через pandas"
   ]
  },
  {
   "cell_type": "code",
   "execution_count": null,
   "metadata": {},
   "outputs": [],
   "source": [
    "df.info()"
   ]
  },
  {
   "cell_type": "code",
   "execution_count": null,
   "metadata": {},
   "outputs": [],
   "source": [
    "df.isnull().sum()"
   ]
  },
  {
   "cell_type": "code",
   "execution_count": null,
   "metadata": {},
   "outputs": [],
   "source": [
    "df = df.dropna()\n",
    "df"
   ]
  },
  {
   "cell_type": "markdown",
   "metadata": {},
   "source": [
    "Добавление данных через SQL"
   ]
  },
  {
   "cell_type": "code",
   "execution_count": null,
   "metadata": {},
   "outputs": [],
   "source": [
    "conn = sqlite3.connect('data/neutron_moderation.db')\n",
    "c = conn.cursor()"
   ]
  },
  {
   "cell_type": "code",
   "execution_count": null,
   "metadata": {},
   "outputs": [],
   "source": [
    "def sql_insert(conn, entities):\n",
    "\n",
    "    cursorObj = conn.cursor()\n",
    "\n",
    "    cursorObj.execute('INSERT INTO Input_data (Material, x1) VALUES(?, ?)', entities)\n",
    "\n",
    "    conn.commit()"
   ]
  },
  {
   "cell_type": "code",
   "execution_count": null,
   "metadata": {},
   "outputs": [],
   "source": [
    "entities = ('Carbon', 1)\n",
    "sql_insert(conn, entities)"
   ]
  },
  {
   "cell_type": "markdown",
   "metadata": {},
   "source": [
    "Удаление данных через SQL, где конкретный столбец равен нулю"
   ]
  },
  {
   "cell_type": "code",
   "execution_count": null,
   "metadata": {},
   "outputs": [],
   "source": [
    "c.execute('DELETE FROM Input_data WHERE (x2 IS NULL)')\n",
    "conn.commit()"
   ]
  },
  {
   "cell_type": "markdown",
   "metadata": {},
   "source": [
    "## 2.4 SELECT Operation, WHERE, DISTINCT, LIMIT"
   ]
  },
  {
   "cell_type": "markdown",
   "metadata": {},
   "source": [
    "Получим список столбцов через Pandas"
   ]
  },
  {
   "cell_type": "code",
   "execution_count": null,
   "metadata": {
    "scrolled": true
   },
   "outputs": [],
   "source": [
    "c = list(df)\n",
    "c"
   ]
  },
  {
   "cell_type": "markdown",
   "metadata": {},
   "source": [
    "Получим список столбцов через SQL"
   ]
  },
  {
   "cell_type": "code",
   "execution_count": null,
   "metadata": {
    "scrolled": false
   },
   "outputs": [],
   "source": [
    "row_names = []\n",
    "\n",
    "def sql_fetch(conn):\n",
    "\n",
    "    cursorObj = conn.cursor()\n",
    "\n",
    "    cursorObj.execute('select * from Input_data')\n",
    "    \n",
    "    colnames = cursorObj.description\n",
    "    for row in colnames:\n",
    "        row_names.append(row[0])\n",
    "\n",
    "sql_fetch(conn)\n",
    "\n",
    "print(row_names)"
   ]
  },
  {
   "cell_type": "markdown",
   "metadata": {},
   "source": [
    "Вывод конкретных столбцов через Pandas"
   ]
  },
  {
   "cell_type": "code",
   "execution_count": null,
   "metadata": {},
   "outputs": [],
   "source": [
    "names = [\"Material\", \"A_1\", \"A_2\"]\n",
    "df[names]"
   ]
  },
  {
   "cell_type": "markdown",
   "metadata": {},
   "source": [
    "Вывод конкретных столбцов через SQL"
   ]
  },
  {
   "cell_type": "code",
   "execution_count": null,
   "metadata": {},
   "outputs": [],
   "source": [
    "conn = sqlite3.connect('data/neutron_moderation.db')\n",
    "\n",
    "cursor = conn.execute(\"SELECT Material, A_1, A_2 from Input_data\")\n",
    "for row in cursor:\n",
    "    print(\"Material = \", row[0])\n",
    "    print(\"A_1 = \", row[1])\n",
    "    print(\"A_2 = \", row[2], \"\\n\")\n",
    "\n",
    "conn.close()"
   ]
  },
  {
   "cell_type": "markdown",
   "metadata": {},
   "source": [
    "Вывод ограниченного числа строк через Pandas"
   ]
  },
  {
   "cell_type": "code",
   "execution_count": null,
   "metadata": {},
   "outputs": [],
   "source": [
    "df1.head(3)"
   ]
  },
  {
   "cell_type": "markdown",
   "metadata": {},
   "source": [
    "Вывод ограниченного числа строк через SQL"
   ]
  },
  {
   "cell_type": "code",
   "execution_count": null,
   "metadata": {},
   "outputs": [],
   "source": [
    "conn = sqlite3.connect('data/neutron_moderation.db')\n",
    "\n",
    "cursor = conn.execute(\"SELECT * FROM Input_data limit 2\")\n",
    "\n",
    "for row in cursor:\n",
    "    print(row)\n",
    "    print()\n",
    "\n",
    "conn.close()"
   ]
  },
  {
   "cell_type": "markdown",
   "metadata": {},
   "source": [
    "Select c сножественными условиями Pandas"
   ]
  },
  {
   "cell_type": "code",
   "execution_count": null,
   "metadata": {},
   "outputs": [],
   "source": [
    "df[(df.Material != 'Water') & (df.A_1 == 2)]"
   ]
  },
  {
   "cell_type": "markdown",
   "metadata": {},
   "source": [
    "Select с множественными условиями SQL"
   ]
  },
  {
   "cell_type": "code",
   "execution_count": null,
   "metadata": {},
   "outputs": [],
   "source": [
    "conn = sqlite3.connect('data/neutron_moderation.db')\n",
    "\n",
    "cursor = conn.execute(\"SELECT * FROM Input_data where Material = 'Heavy Water' and  A_1 = 2.0\")\n",
    "\n",
    "for row in cursor:\n",
    "    print(row)\n",
    "    print()\n",
    "\n",
    "conn.close()"
   ]
  },
  {
   "cell_type": "markdown",
   "metadata": {},
   "source": [
    "Вывод уникальных значений Pandas"
   ]
  },
  {
   "cell_type": "code",
   "execution_count": null,
   "metadata": {},
   "outputs": [],
   "source": [
    "df1['Material'].value_counts(normalize=True)"
   ]
  },
  {
   "cell_type": "markdown",
   "metadata": {},
   "source": [
    "Вывод уникальных значений SQL"
   ]
  },
  {
   "cell_type": "code",
   "execution_count": null,
   "metadata": {},
   "outputs": [],
   "source": [
    "conn = sqlite3.connect('data/neutron_moderation.db')\n",
    "\n",
    "cursor = conn.execute(\"SELECT DISTINCT Material FROM Output_data\")\n",
    "\n",
    "for row in cursor:\n",
    "    print(row)\n",
    "    print()\n",
    "\n",
    "conn.close()"
   ]
  },
  {
   "cell_type": "markdown",
   "metadata": {},
   "source": [
    "## 2.5 UPDATE Operation"
   ]
  },
  {
   "cell_type": "markdown",
   "metadata": {},
   "source": [
    "Изменение данных через Pandas"
   ]
  },
  {
   "cell_type": "code",
   "execution_count": null,
   "metadata": {
    "scrolled": true
   },
   "outputs": [],
   "source": [
    "df"
   ]
  },
  {
   "cell_type": "code",
   "execution_count": null,
   "metadata": {},
   "outputs": [],
   "source": [
    "df.loc[df['Chemical formula'] == 'C2D2', 'Material'] = 'Unknow'\n",
    "df"
   ]
  },
  {
   "cell_type": "code",
   "execution_count": null,
   "metadata": {},
   "outputs": [],
   "source": [
    "df.loc[df['Chemical formula'] == 'C2D2', 'Material'] = 'Heavy Plexiglass'\n",
    "df"
   ]
  },
  {
   "cell_type": "markdown",
   "metadata": {},
   "source": [
    "Изменение данных через SQL"
   ]
  },
  {
   "cell_type": "code",
   "execution_count": null,
   "metadata": {},
   "outputs": [],
   "source": [
    "conn = sqlite3.connect('data/neutron_moderation.db')\n",
    "\n",
    "cursor = conn.execute(\"UPDATE Input_data set Material = 'Unknow' where Material = 'Water'\")\n",
    "conn.commit()\n",
    "\n",
    "for row in cursor.execute('SELECT * FROM Input_data'):\n",
    "    print(row)\n",
    "    print()\n",
    "\n",
    "conn.close()"
   ]
  },
  {
   "cell_type": "code",
   "execution_count": null,
   "metadata": {},
   "outputs": [],
   "source": [
    "conn = sqlite3.connect('data/neutron_moderation.db')\n",
    "\n",
    "cursor = conn.execute(\"UPDATE Input_data set Material = 'Water' where Material = 'Unknow'\")\n",
    "conn.commit()\n",
    "\n",
    "for row in cursor.execute('SELECT * FROM Input_data'):\n",
    "    print(row)\n",
    "    print()\n",
    "\n",
    "conn.close()"
   ]
  },
  {
   "cell_type": "markdown",
   "metadata": {},
   "source": [
    "## 2.6 ORDER BY"
   ]
  },
  {
   "cell_type": "markdown",
   "metadata": {},
   "source": [
    "Сортировка в Pandas по возрастанию с условием"
   ]
  },
  {
   "cell_type": "code",
   "execution_count": null,
   "metadata": {},
   "outputs": [],
   "source": [
    "df1[df1.Material == 'Water'].sort_values('colisions')"
   ]
  },
  {
   "cell_type": "markdown",
   "metadata": {},
   "source": [
    "Сортировка в Pandas по убыванию с условием"
   ]
  },
  {
   "cell_type": "code",
   "execution_count": null,
   "metadata": {},
   "outputs": [],
   "source": [
    "df1[df1.Material == 'Water'].sort_values('colisions', ascending = False)"
   ]
  },
  {
   "cell_type": "markdown",
   "metadata": {},
   "source": [
    "Сортировка SQL по возрастанию с условием"
   ]
  },
  {
   "cell_type": "code",
   "execution_count": null,
   "metadata": {},
   "outputs": [],
   "source": [
    "conn = sqlite3.connect('data/neutron_moderation.db')\n",
    "\n",
    "cursor = conn.execute(\n",
    "    \"SELECT * FROM Output_data where Material = 'Water' order by colisions limit 10\")\n",
    "\n",
    "for row in cursor:\n",
    "    print(row)\n",
    "    print()\n",
    "\n",
    "conn.close()"
   ]
  },
  {
   "cell_type": "code",
   "execution_count": null,
   "metadata": {},
   "outputs": [],
   "source": [
    "conn = sqlite3.connect('data/neutron_moderation.db')\n",
    "\n",
    "cursor = conn.execute(\n",
    "    \"SELECT * FROM Output_data where Material = 'Water' order by colisions desc limit 5\")\n",
    "\n",
    "for row in cursor:\n",
    "    print(row)\n",
    "    print()\n",
    "\n",
    "conn.close()"
   ]
  },
  {
   "cell_type": "markdown",
   "metadata": {},
   "source": [
    "## 2.7 IN и NOT IN"
   ]
  }
 ],
 "metadata": {
  "kernelspec": {
   "display_name": "Python 3",
   "language": "python",
   "name": "python3"
  },
  "language_info": {
   "codemirror_mode": {
    "name": "ipython",
    "version": 3
   },
   "file_extension": ".py",
   "mimetype": "text/x-python",
   "name": "python",
   "nbconvert_exporter": "python",
   "pygments_lexer": "ipython3",
   "version": "3.7.6"
  }
 },
 "nbformat": 4,
 "nbformat_minor": 4
}
